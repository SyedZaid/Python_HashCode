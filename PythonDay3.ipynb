{
 "cells": [
  {
   "cell_type": "code",
   "execution_count": null,
   "metadata": {},
   "outputs": [],
   "source": [
    "'''\n",
    "Team 26\n",
    "\n",
    "PRIYAM CHADHA\n",
    "LUCY HEMBAFAN ADI\n",
    "SAI KRISHNA KUMAR BADANKI\n",
    "MOHAMMED ZAID SYED\n",
    "\n",
    "''' "
   ]
  },
  {
   "cell_type": "code",
   "execution_count": 292,
   "metadata": {
    "scrolled": false
   },
   "outputs": [
    {
     "name": "stdout",
     "output_type": "stream",
     "text": [
      "[[0, 'H', 3, ['cat', 'beach', 'sun']], [1, 'V', 2, ['selfie', 'smile']], [2, 'V', 2, ['garden', 'selfie']], [3, 'H', 2, ['garden', 'cat']]]\n"
     ]
    }
   ],
   "source": [
    "import numpy as np\n",
    "import re\n",
    "import pandas as pd\n",
    "\n",
    "def parse(filepath):\n",
    "    data = []\n",
    "    id = -1\n",
    "    file = open(filepath,\"r\")\n",
    "    for line in file:\n",
    "        if(id==100):\n",
    "            break;\n",
    "        Tags = np.array([])\n",
    "        b=[]\n",
    "        line = line.rstrip('\\n')\n",
    "        fields = line.split(\" \")\n",
    "        if(id>=0):\n",
    "            Tags=fields[2:]\n",
    "            b=[id,fields[0],int(fields[1])]\n",
    "            b.append(Tags)\n",
    "            data.append(b)\n",
    "        id=id+1     \n",
    "    return data\n",
    "data=parse('a_example.txt')\n",
    "    #'b_lovely_landscapes.txt')\n",
    "print(data)#'e_shiny_selfies.txt')"
   ]
  },
  {
   "cell_type": "code",
   "execution_count": 293,
   "metadata": {
    "scrolled": true
   },
   "outputs": [
    {
     "name": "stdout",
     "output_type": "stream",
     "text": [
      "[[0, 'H', 3, ['cat', 'beach', 'sun']], [3, 'H', 2, ['garden', 'cat']]] \n",
      "\n",
      " [[1, 'V', 2, ['selfie', 'smile']], [2, 'V', 2, ['garden', 'selfie']]]\n"
     ]
    }
   ],
   "source": [
    "def split_H_V(data):\n",
    "    photoH = []\n",
    "    photoV =[]\n",
    "    i=0;\n",
    "    for photo in data:\n",
    "        if(data[i][1]=='V'):\n",
    "            photoV.append(data[i])\n",
    "        elif(data[i][1]=='H'):\n",
    "            photoH.append(data[i])\n",
    "        i=i+1\n",
    "    return photoH,photoV\n",
    "(photoH,photoV)= split_H_V(data)\n",
    "print(photoH,\"\\n\\n\",photoV)"
   ]
  },
  {
   "cell_type": "code",
   "execution_count": 294,
   "metadata": {
    "scrolled": true
   },
   "outputs": [
    {
     "name": "stdout",
     "output_type": "stream",
     "text": [
      "{'1,2': ['smile', 'garden', 'selfie']}\n"
     ]
    }
   ],
   "source": [
    "def group_V(V):\n",
    "    ungrouped = V\n",
    "    Grouped = {}\n",
    "    i=0;\n",
    "    \n",
    "    while (i<len(ungrouped))and(len(ungrouped)>1):\n",
    "        j=0\n",
    "        common = []\n",
    "        score = []\n",
    "        while (j<len(ungrouped))and(len(ungrouped)>1):\n",
    "            \n",
    "            if(ungrouped[i][0]==ungrouped[j][0]):\n",
    "                j=j+1\n",
    "                continue\n",
    "            else:\n",
    "                common = list(set(ungrouped[i][3]).intersection(ungrouped[j][3]))\n",
    "                b=[ungrouped[j][0],len(common)]\n",
    "                score.append(b)\n",
    "                j=j+1\n",
    "                \n",
    "        c=0\n",
    "        num=[]\n",
    "        while c<len(score):\n",
    "            num.append(score[c][1])\n",
    "            c=c+1\n",
    "        num=list(dict.fromkeys(num))\n",
    "        num.sort()\n",
    "        no = num[len(num)//2]\n",
    "        c=0\n",
    "        while c<len(score):\n",
    "            if(score[c][1]==no):\n",
    "                opti=score[c][0]\n",
    "                break\n",
    "            c=c+1\n",
    "            \n",
    "        ex=ungrouped[i]\n",
    "        \n",
    "        del ungrouped[i]\n",
    "        c=0\n",
    "        while c<len(ungrouped):\n",
    "            if(ungrouped[c][0]==opti):\n",
    "                Grouped[str(ex[0])+\",\"+str(ungrouped[c][0])] = list(set(ex[3]) | set(ungrouped[c][3]))\n",
    "                del ungrouped[c]\n",
    "                break\n",
    "            c=c+1 \n",
    "                                                                              \n",
    "        i=0\n",
    "    return Grouped\n",
    "Grouped = group_V(photoV)\n",
    "print(Grouped) "
   ]
  },
  {
   "cell_type": "code",
   "execution_count": 295,
   "metadata": {
    "scrolled": true
   },
   "outputs": [
    {
     "name": "stdout",
     "output_type": "stream",
     "text": [
      "[['1,2', ['smile', 'garden', 'selfie']], ['3', ['garden', 'cat']], ['0', ['cat', 'beach', 'sun']]]\n"
     ]
    }
   ],
   "source": [
    "import random\n",
    "\n",
    "def slide_show(photoV,photoH,Grouped):\n",
    "    show=[]\n",
    "    i=0\n",
    "    order=[]\n",
    "    while i<len(photoH):\n",
    "        a=[str(photoH[i][0]),photoH[i][3]]\n",
    "        show.append(a)\n",
    "        i=i+1\n",
    "    for (k,v) in Grouped.items():\n",
    "        b=[k,v]\n",
    "        show.append(b)\n",
    "    random.shuffle(show)\n",
    "    x=0\n",
    "   \n",
    "    while (x<len(show))and(len(show)>1):\n",
    "        y=0\n",
    "        score=[]\n",
    "        common = []\n",
    "        while (y<len(show)and(len(show)>1)):\n",
    "            if(show[x][0]==show[y][0]):\n",
    "                y=y+1\n",
    "                continue\n",
    "            else:\n",
    "                common = list(set(show[x][1]).intersection(show[y][1]))\n",
    "                b=[show[y][0],len(common)]\n",
    "                score.append(b)\n",
    "                y=y+1\n",
    "        c=0\n",
    "        num=[]\n",
    "        while c<len(score):\n",
    "            num.append(score[c][1])\n",
    "            c=c+1\n",
    "        num=list(dict.fromkeys(num))\n",
    "        num.sort()\n",
    "        no = num[len(num)//2]\n",
    "        c=0\n",
    "        while c<len(score):\n",
    "            if(score[c][1]==no):\n",
    "                opti=score[c][0]\n",
    "                break\n",
    "            c=c+1\n",
    "        \n",
    "        order.append(show[x])\n",
    "        del show[x]\n",
    "              \n",
    "        c=0\n",
    "        while c<len(show):\n",
    "            if(show[c][0]==opti):\n",
    "                order.append(show[c])\n",
    "                del show[c]\n",
    "                break\n",
    "            c=c+1\n",
    "        x=0   \n",
    "        for w in show:\n",
    "            order.append(w)\n",
    "    #random.shuffle(show)\n",
    "    return order\n",
    "order=slide_show(photoV,photoH,Grouped) \n",
    "print(order)"
   ]
  },
  {
   "cell_type": "code",
   "execution_count": 296,
   "metadata": {},
   "outputs": [
    {
     "name": "stdout",
     "output_type": "stream",
     "text": [
      "2\n"
     ]
    }
   ],
   "source": [
    "def calculate_transition_score(show):\n",
    "    i=0\n",
    "    intersect_factor=0\n",
    "    while i<len(show)-1:\n",
    "        \n",
    "        similar_tags = set(show[i][1]).intersection(show[i+1][1])\n",
    "        f0_not_in_f1 = set(show[i][1]).difference(show[i+1][1])\n",
    "        f1_not_in_f0 = set(show[i+1][1]).difference(show[i][1])\n",
    "        \n",
    "        intersect_factor = intersect_factor + min(len(similar_tags),len(f0_not_in_f1),len(f1_not_in_f0))\n",
    "        i=i+1\n",
    "    return intersect_factor\n",
    "myscore=calculate_transition_score(order)\n",
    "print(myscore)"
   ]
  },
  {
   "cell_type": "code",
   "execution_count": 290,
   "metadata": {},
   "outputs": [],
   "source": [
    "def write_to_file(my_list):\n",
    "    with open('Output_a_example.txt', 'w') as f:\n",
    "        for item in my_list:\n",
    "            f.write(\"%s\\n\" % item)\n",
    "        \n",
    "write_to_file(order)"
   ]
  },
  {
   "cell_type": "code",
   "execution_count": null,
   "metadata": {},
   "outputs": [],
   "source": []
  },
  {
   "cell_type": "code",
   "execution_count": null,
   "metadata": {},
   "outputs": [],
   "source": []
  }
 ],
 "metadata": {
  "kernelspec": {
   "display_name": "Python 3",
   "language": "python",
   "name": "python3"
  },
  "language_info": {
   "codemirror_mode": {
    "name": "ipython",
    "version": 3
   },
   "file_extension": ".py",
   "mimetype": "text/x-python",
   "name": "python",
   "nbconvert_exporter": "python",
   "pygments_lexer": "ipython3",
   "version": "3.7.0"
  }
 },
 "nbformat": 4,
 "nbformat_minor": 2
}
